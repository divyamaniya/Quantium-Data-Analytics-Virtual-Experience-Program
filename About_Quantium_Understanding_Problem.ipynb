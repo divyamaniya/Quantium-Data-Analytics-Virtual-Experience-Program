{
 "metadata": {
  "language_info": {
   "codemirror_mode": {
    "name": "ipython",
    "version": 3
   },
   "file_extension": ".py",
   "mimetype": "text/x-python",
   "name": "python",
   "nbconvert_exporter": "python",
   "pygments_lexer": "ipython3",
   "version": 3
  },
  "orig_nbformat": 2
 },
 "nbformat": 4,
 "nbformat_minor": 2,
 "cells": [
  {
   "source": [
    "### About Quantium :\n",
    "\n",
    "Quantium is a <b>leading data science and AI Firm</b>,Founded in <b>Australia</b> in <b>2002</b> and offer a <b>17-year track record of innovation in data science.</b>\n",
    "\n",
    "Aim of company : Quantium <b>combines</b> the best of <b>human and artificial intelligence to power possibilities </b> for individuals,orgaisations and society.(Tag line :Data powering possibilities).\n",
    "\n",
    "Analytics Community ,Sydeny <br> \n",
    "<b> Lauren Hammacher – Executive Manager </b> <br> "
   ],
   "cell_type": "markdown",
   "metadata": {}
  },
  {
   "source": [
    "<b> Aim of Project : </b>\n",
    "\n",
    "Quantium has had a <b>data partnership</b> with a <b>large supermarket brand (American retail partners) </b> for the last few years who provide transactional and customer data.<br>\n",
    "\n",
    "Supermarket will regularly change their <b> store layouts, product selections, price and promotions.</b> This is <b> to satisfy their customer’s changing needs and preferences ,</b> keep up with the <b>increasing competition in the market</b> or to <b>capitalise</b> on <b>new opportunities.</b> <br>\n",
    "\n",
    "To figure out how <b>supermarket and CPG(Consumer packaged goods suppliers) to make best strategic decisions.</b> This drives <b>better experience for consumers, and more revenue and profit for business.</b> Category managers work with suppliers to have right products at right prices on the shelf. This <b> category manager need to create strategic for their category for the next 6 months.</b>\n",
    "\n",
    "Chips category manager - Julia\n",
    "\n",
    "Julia wants to understand the customer segments and who she should be targetting within her category. <br>\n",
    "The client is particularly interested in customer segments and their chip purchasing behaviour. Consider what metrics would help describe the customers’ purchasing behaviour.  "
   ],
   "cell_type": "markdown",
   "metadata": {}
  },
  {
   "source": [
    "#### Data Sets : <br>\n",
    "QVI_purchase_behaviour.csv - Year’s worth of potato chip transaction data <br>\n",
    "QVI_transaction_data.xslx - Customer data for a region : Includes life stage and premium customer segments, which are  based on customer’s overall shopping behavior beyond the world chips.  <br>"
   ],
   "cell_type": "markdown",
   "metadata": {}
  }
 ]
}